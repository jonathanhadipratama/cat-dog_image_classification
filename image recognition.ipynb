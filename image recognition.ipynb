{
 "cells": [
  {
   "cell_type": "code",
   "execution_count": 1,
   "metadata": {
    "ExecuteTime": {
     "end_time": "2019-12-18T08:48:07.039572Z",
     "start_time": "2019-12-18T08:48:01.740598Z"
    }
   },
   "outputs": [
    {
     "name": "stderr",
     "output_type": "stream",
     "text": [
      "Using TensorFlow backend.\n"
     ]
    }
   ],
   "source": [
    "from keras.models import Sequential\n",
    "from keras.layers import Conv2D\n",
    "from keras.layers import MaxPooling2D\n",
    "from keras.layers import Flatten\n",
    "from keras.layers import Dense"
   ]
  },
  {
   "cell_type": "code",
   "execution_count": 2,
   "metadata": {
    "ExecuteTime": {
     "end_time": "2019-12-18T08:48:07.045547Z",
     "start_time": "2019-12-18T08:48:07.040562Z"
    }
   },
   "outputs": [],
   "source": [
    "classifier = Sequential()"
   ]
  },
  {
   "cell_type": "code",
   "execution_count": 3,
   "metadata": {
    "ExecuteTime": {
     "end_time": "2019-12-18T08:48:07.076485Z",
     "start_time": "2019-12-18T08:48:07.047522Z"
    }
   },
   "outputs": [],
   "source": [
    "# Step 1 - Convolution\n",
    "classifier.add(Conv2D(32, (3, 3), input_shape = (64, 64, 3), activation = 'relu'))"
   ]
  },
  {
   "cell_type": "code",
   "execution_count": 4,
   "metadata": {
    "ExecuteTime": {
     "end_time": "2019-12-18T08:48:07.082439Z",
     "start_time": "2019-12-18T08:48:07.077430Z"
    }
   },
   "outputs": [],
   "source": [
    "# Step 2 - Pooling\n",
    "classifier.add(MaxPooling2D(pool_size = (2, 2)))"
   ]
  },
  {
   "cell_type": "code",
   "execution_count": 5,
   "metadata": {
    "ExecuteTime": {
     "end_time": "2019-12-18T08:48:07.098426Z",
     "start_time": "2019-12-18T08:48:07.084411Z"
    }
   },
   "outputs": [],
   "source": [
    "# Adding a second convolutional layer\n",
    "classifier.add(Conv2D(32, (3, 3), activation = 'relu'))\n",
    "classifier.add(MaxPooling2D(pool_size = (2, 2)))"
   ]
  },
  {
   "cell_type": "code",
   "execution_count": 6,
   "metadata": {
    "ExecuteTime": {
     "end_time": "2019-12-18T08:48:07.109370Z",
     "start_time": "2019-12-18T08:48:07.100401Z"
    }
   },
   "outputs": [],
   "source": [
    "# Step 3 - Flattening\n",
    "classifier.add(Flatten())"
   ]
  },
  {
   "cell_type": "code",
   "execution_count": 7,
   "metadata": {
    "ExecuteTime": {
     "end_time": "2019-12-18T08:48:07.129344Z",
     "start_time": "2019-12-18T08:48:07.110342Z"
    }
   },
   "outputs": [],
   "source": [
    "# Step 4 - Full connection\n",
    "classifier.add(Dense(units = 128, activation = 'relu'))\n",
    "classifier.add(Dense(units = 1, activation = 'sigmoid'))"
   ]
  },
  {
   "cell_type": "code",
   "execution_count": 8,
   "metadata": {
    "ExecuteTime": {
     "end_time": "2019-12-18T08:48:07.197164Z",
     "start_time": "2019-12-18T08:48:07.130291Z"
    }
   },
   "outputs": [],
   "source": [
    "# Compiling the CNN\n",
    "classifier.compile(optimizer = 'adam', loss = 'binary_crossentropy', metrics = ['accuracy'])"
   ]
  },
  {
   "cell_type": "code",
   "execution_count": 9,
   "metadata": {
    "ExecuteTime": {
     "end_time": "2019-12-18T11:13:32.566093Z",
     "start_time": "2019-12-18T08:48:07.198143Z"
    }
   },
   "outputs": [
    {
     "name": "stdout",
     "output_type": "stream",
     "text": [
      "Found 8000 images belonging to 2 classes.\n",
      "Found 2000 images belonging to 2 classes.\n",
      "Epoch 1/10\n",
      "8000/8000 [==============================] - 795s 99ms/step - loss: 0.3583 - accuracy: 0.8307 - val_loss: 0.7176 - val_accuracy: 0.7995\n",
      "Epoch 2/10\n",
      "8000/8000 [==============================] - 790s 99ms/step - loss: 0.0988 - accuracy: 0.9626 - val_loss: 0.5192 - val_accuracy: 0.7869\n",
      "Epoch 3/10\n",
      "8000/8000 [==============================] - 787s 98ms/step - loss: 0.0520 - accuracy: 0.9819 - val_loss: 0.4977 - val_accuracy: 0.7935\n",
      "Epoch 4/10\n",
      "8000/8000 [==============================] - 786s 98ms/step - loss: 0.0365 - accuracy: 0.9873 - val_loss: 0.5348 - val_accuracy: 0.7894\n",
      "Epoch 5/10\n",
      "8000/8000 [==============================] - 786s 98ms/step - loss: 0.0298 - accuracy: 0.9899 - val_loss: 2.0138 - val_accuracy: 0.7971\n",
      "Epoch 6/10\n",
      "8000/8000 [==============================] - 1333s 167ms/step - loss: 0.0250 - accuracy: 0.9916 - val_loss: 2.6514 - val_accuracy: 0.8003\n",
      "Epoch 7/10\n",
      "8000/8000 [==============================] - 878s 110ms/step - loss: 0.0226 - accuracy: 0.9927 - val_loss: 1.5762 - val_accuracy: 0.8009\n",
      "Epoch 8/10\n",
      "8000/8000 [==============================] - 859s 107ms/step - loss: 0.0187 - accuracy: 0.9939 - val_loss: 3.8126 - val_accuracy: 0.7864\n",
      "Epoch 9/10\n",
      "8000/8000 [==============================] - 874s 109ms/step - loss: 0.0173 - accuracy: 0.9945 - val_loss: 2.0074 - val_accuracy: 0.7851\n",
      "Epoch 10/10\n",
      "8000/8000 [==============================] - 836s 104ms/step - loss: 0.0160 - accuracy: 0.9949 - val_loss: 1.9520 - val_accuracy: 0.7778\n"
     ]
    },
    {
     "data": {
      "text/plain": [
       "<keras.callbacks.callbacks.History at 0x1faa54d8240>"
      ]
     },
     "execution_count": 9,
     "metadata": {},
     "output_type": "execute_result"
    }
   ],
   "source": [
    "# Part 2 - Fitting the CNN to the images\n",
    "\n",
    "from keras.preprocessing.image import ImageDataGenerator\n",
    "\n",
    "train_datagen = ImageDataGenerator(rescale = 1./255,\n",
    "                                   shear_range = 0.2,\n",
    "                                   zoom_range = 0.2,\n",
    "                                   horizontal_flip = True)\n",
    "\n",
    "test_datagen = ImageDataGenerator(rescale = 1./255)\n",
    "\n",
    "training_set = train_datagen.flow_from_directory('dataset/training_set',\n",
    "                                                 target_size = (64, 64),\n",
    "                                                 batch_size = 32,\n",
    "                                                 class_mode = 'binary')\n",
    "\n",
    "test_set = test_datagen.flow_from_directory('dataset/test_set',\n",
    "                                            target_size = (64, 64),\n",
    "                                            batch_size = 32,\n",
    "                                            class_mode = 'binary')\n",
    "\n",
    "classifier.fit_generator(training_set,\n",
    "                         steps_per_epoch = 8000,\n",
    "                         epochs = 10,\n",
    "                         validation_data = test_set,\n",
    "                         validation_steps = 2000, workers=2)"
   ]
  },
  {
   "cell_type": "code",
   "execution_count": 10,
   "metadata": {
    "ExecuteTime": {
     "end_time": "2019-12-18T11:13:32.632565Z",
     "start_time": "2019-12-18T11:13:32.569086Z"
    }
   },
   "outputs": [],
   "source": [
    "# Part 3 - Making new predictions\n",
    "\n",
    "import numpy as np\n",
    "from keras.preprocessing import image\n",
    "test_image = image.load_img('dataset/single_prediction/cat_or_dog_1.jpg', target_size = (64, 64))\n",
    "test_image = image.img_to_array(test_image)\n",
    "test_image = np.expand_dims(test_image, axis = 0)\n",
    "result = classifier.predict(test_image)\n",
    "training_set.class_indices\n",
    "if result[0][0] == 1:\n",
    "    prediction = 'dog'\n",
    "else:\n",
    "    prediction = 'cat'"
   ]
  },
  {
   "cell_type": "code",
   "execution_count": 11,
   "metadata": {
    "ExecuteTime": {
     "end_time": "2019-12-18T11:14:20.979293Z",
     "start_time": "2019-12-18T11:14:20.975271Z"
    }
   },
   "outputs": [
    {
     "data": {
      "text/plain": [
       "'dog'"
      ]
     },
     "execution_count": 11,
     "metadata": {},
     "output_type": "execute_result"
    }
   ],
   "source": [
    "prediction"
   ]
  },
  {
   "cell_type": "code",
   "execution_count": null,
   "metadata": {},
   "outputs": [],
   "source": []
  }
 ],
 "metadata": {
  "kernelspec": {
   "display_name": "Python 3",
   "language": "python",
   "name": "python3"
  },
  "language_info": {
   "codemirror_mode": {
    "name": "ipython",
    "version": 3
   },
   "file_extension": ".py",
   "mimetype": "text/x-python",
   "name": "python",
   "nbconvert_exporter": "python",
   "pygments_lexer": "ipython3",
   "version": "3.7.3"
  }
 },
 "nbformat": 4,
 "nbformat_minor": 2
}
